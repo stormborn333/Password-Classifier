{
 "cells": [
  {
   "cell_type": "code",
   "execution_count": 2,
   "metadata": {},
   "outputs": [],
   "source": [
    "import pandas as pd\n",
    "import numpy as np\n",
    "import warnings\n",
    "warnings.filterwarnings('ignore')"
   ]
  },
  {
   "cell_type": "code",
   "execution_count": 3,
   "metadata": {},
   "outputs": [
    {
     "name": "stderr",
     "output_type": "stream",
     "text": [
      "Skipping line 2810: Expected 2 fields in line 2810, saw 5\n",
      "Skipping line 4641: Expected 2 fields in line 4641, saw 5\n",
      "Skipping line 7171: Expected 2 fields in line 7171, saw 5\n",
      "Skipping line 11220: Expected 2 fields in line 11220, saw 5\n",
      "Skipping line 13809: Expected 2 fields in line 13809, saw 5\n",
      "Skipping line 14132: Expected 2 fields in line 14132, saw 5\n",
      "Skipping line 14293: Expected 2 fields in line 14293, saw 5\n",
      "Skipping line 14865: Expected 2 fields in line 14865, saw 5\n",
      "Skipping line 17419: Expected 2 fields in line 17419, saw 5\n",
      "Skipping line 22801: Expected 2 fields in line 22801, saw 5\n",
      "Skipping line 25001: Expected 2 fields in line 25001, saw 5\n",
      "Skipping line 26603: Expected 2 fields in line 26603, saw 5\n",
      "Skipping line 26742: Expected 2 fields in line 26742, saw 5\n",
      "Skipping line 29702: Expected 2 fields in line 29702, saw 5\n",
      "Skipping line 32767: Expected 2 fields in line 32767, saw 5\n",
      "Skipping line 32878: Expected 2 fields in line 32878, saw 5\n",
      "Skipping line 35643: Expected 2 fields in line 35643, saw 5\n",
      "Skipping line 36550: Expected 2 fields in line 36550, saw 5\n",
      "Skipping line 38732: Expected 2 fields in line 38732, saw 5\n",
      "Skipping line 40567: Expected 2 fields in line 40567, saw 5\n",
      "Skipping line 40576: Expected 2 fields in line 40576, saw 5\n",
      "Skipping line 41864: Expected 2 fields in line 41864, saw 5\n",
      "Skipping line 46861: Expected 2 fields in line 46861, saw 5\n",
      "Skipping line 47939: Expected 2 fields in line 47939, saw 5\n",
      "Skipping line 48628: Expected 2 fields in line 48628, saw 5\n",
      "Skipping line 48908: Expected 2 fields in line 48908, saw 5\n",
      "Skipping line 57582: Expected 2 fields in line 57582, saw 5\n",
      "Skipping line 58782: Expected 2 fields in line 58782, saw 5\n",
      "Skipping line 58984: Expected 2 fields in line 58984, saw 5\n",
      "Skipping line 61518: Expected 2 fields in line 61518, saw 5\n",
      "Skipping line 63451: Expected 2 fields in line 63451, saw 5\n",
      "Skipping line 68141: Expected 2 fields in line 68141, saw 5\n",
      "Skipping line 72083: Expected 2 fields in line 72083, saw 5\n",
      "Skipping line 74027: Expected 2 fields in line 74027, saw 5\n",
      "Skipping line 77811: Expected 2 fields in line 77811, saw 5\n",
      "Skipping line 83958: Expected 2 fields in line 83958, saw 5\n",
      "Skipping line 85295: Expected 2 fields in line 85295, saw 5\n",
      "Skipping line 88665: Expected 2 fields in line 88665, saw 5\n",
      "Skipping line 89198: Expected 2 fields in line 89198, saw 5\n",
      "Skipping line 92499: Expected 2 fields in line 92499, saw 5\n",
      "Skipping line 92751: Expected 2 fields in line 92751, saw 5\n",
      "Skipping line 93689: Expected 2 fields in line 93689, saw 5\n",
      "Skipping line 94776: Expected 2 fields in line 94776, saw 5\n",
      "Skipping line 97334: Expected 2 fields in line 97334, saw 5\n",
      "Skipping line 102316: Expected 2 fields in line 102316, saw 5\n",
      "Skipping line 103421: Expected 2 fields in line 103421, saw 5\n",
      "Skipping line 106872: Expected 2 fields in line 106872, saw 5\n",
      "Skipping line 109363: Expected 2 fields in line 109363, saw 5\n",
      "Skipping line 110117: Expected 2 fields in line 110117, saw 5\n",
      "Skipping line 110465: Expected 2 fields in line 110465, saw 5\n",
      "Skipping line 113843: Expected 2 fields in line 113843, saw 5\n",
      "Skipping line 115634: Expected 2 fields in line 115634, saw 5\n",
      "Skipping line 121518: Expected 2 fields in line 121518, saw 5\n",
      "Skipping line 123692: Expected 2 fields in line 123692, saw 5\n",
      "Skipping line 124708: Expected 2 fields in line 124708, saw 5\n",
      "Skipping line 129608: Expected 2 fields in line 129608, saw 5\n",
      "Skipping line 133176: Expected 2 fields in line 133176, saw 5\n",
      "Skipping line 135532: Expected 2 fields in line 135532, saw 5\n",
      "Skipping line 138042: Expected 2 fields in line 138042, saw 5\n",
      "Skipping line 139485: Expected 2 fields in line 139485, saw 5\n",
      "Skipping line 140401: Expected 2 fields in line 140401, saw 5\n",
      "Skipping line 144093: Expected 2 fields in line 144093, saw 5\n",
      "Skipping line 149850: Expected 2 fields in line 149850, saw 5\n",
      "Skipping line 151831: Expected 2 fields in line 151831, saw 5\n",
      "Skipping line 158014: Expected 2 fields in line 158014, saw 5\n",
      "Skipping line 162047: Expected 2 fields in line 162047, saw 5\n",
      "Skipping line 164515: Expected 2 fields in line 164515, saw 5\n",
      "Skipping line 170313: Expected 2 fields in line 170313, saw 5\n",
      "Skipping line 171325: Expected 2 fields in line 171325, saw 5\n",
      "Skipping line 171424: Expected 2 fields in line 171424, saw 5\n",
      "Skipping line 175920: Expected 2 fields in line 175920, saw 5\n",
      "Skipping line 176210: Expected 2 fields in line 176210, saw 5\n",
      "Skipping line 183603: Expected 2 fields in line 183603, saw 5\n",
      "Skipping line 190264: Expected 2 fields in line 190264, saw 5\n",
      "Skipping line 191683: Expected 2 fields in line 191683, saw 5\n",
      "Skipping line 191988: Expected 2 fields in line 191988, saw 5\n",
      "Skipping line 195450: Expected 2 fields in line 195450, saw 5\n",
      "Skipping line 195754: Expected 2 fields in line 195754, saw 5\n",
      "Skipping line 197124: Expected 2 fields in line 197124, saw 5\n",
      "Skipping line 199263: Expected 2 fields in line 199263, saw 5\n",
      "Skipping line 202603: Expected 2 fields in line 202603, saw 5\n",
      "Skipping line 209960: Expected 2 fields in line 209960, saw 5\n",
      "Skipping line 213218: Expected 2 fields in line 213218, saw 5\n",
      "Skipping line 217060: Expected 2 fields in line 217060, saw 5\n",
      "Skipping line 220121: Expected 2 fields in line 220121, saw 5\n",
      "Skipping line 223518: Expected 2 fields in line 223518, saw 5\n",
      "Skipping line 226293: Expected 2 fields in line 226293, saw 5\n",
      "Skipping line 227035: Expected 2 fields in line 227035, saw 7\n",
      "Skipping line 227341: Expected 2 fields in line 227341, saw 5\n",
      "Skipping line 227808: Expected 2 fields in line 227808, saw 5\n",
      "Skipping line 228516: Expected 2 fields in line 228516, saw 5\n",
      "Skipping line 228733: Expected 2 fields in line 228733, saw 5\n",
      "Skipping line 232043: Expected 2 fields in line 232043, saw 5\n",
      "Skipping line 232426: Expected 2 fields in line 232426, saw 5\n",
      "Skipping line 234490: Expected 2 fields in line 234490, saw 5\n",
      "Skipping line 239626: Expected 2 fields in line 239626, saw 5\n",
      "Skipping line 240461: Expected 2 fields in line 240461, saw 5\n",
      "Skipping line 244518: Expected 2 fields in line 244518, saw 5\n",
      "Skipping line 245395: Expected 2 fields in line 245395, saw 5\n",
      "Skipping line 246168: Expected 2 fields in line 246168, saw 5\n",
      "Skipping line 246655: Expected 2 fields in line 246655, saw 5\n",
      "Skipping line 246752: Expected 2 fields in line 246752, saw 5\n",
      "Skipping line 247189: Expected 2 fields in line 247189, saw 5\n",
      "Skipping line 250276: Expected 2 fields in line 250276, saw 5\n",
      "Skipping line 255327: Expected 2 fields in line 255327, saw 5\n",
      "Skipping line 257094: Expected 2 fields in line 257094, saw 5\n",
      "Skipping line 264626: Expected 2 fields in line 264626, saw 5\n",
      "Skipping line 265028: Expected 2 fields in line 265028, saw 5\n",
      "Skipping line 269150: Expected 2 fields in line 269150, saw 5\n",
      "Skipping line 271360: Expected 2 fields in line 271360, saw 5\n",
      "Skipping line 273975: Expected 2 fields in line 273975, saw 5\n",
      "Skipping line 274742: Expected 2 fields in line 274742, saw 5\n",
      "Skipping line 276227: Expected 2 fields in line 276227, saw 5\n",
      "Skipping line 279807: Expected 2 fields in line 279807, saw 5\n",
      "Skipping line 283425: Expected 2 fields in line 283425, saw 5\n",
      "Skipping line 287468: Expected 2 fields in line 287468, saw 5\n",
      "Skipping line 292995: Expected 2 fields in line 292995, saw 5\n",
      "Skipping line 293496: Expected 2 fields in line 293496, saw 5\n",
      "Skipping line 293735: Expected 2 fields in line 293735, saw 5\n",
      "Skipping line 295060: Expected 2 fields in line 295060, saw 5\n",
      "Skipping line 296643: Expected 2 fields in line 296643, saw 5\n",
      "Skipping line 296848: Expected 2 fields in line 296848, saw 5\n",
      "Skipping line 308926: Expected 2 fields in line 308926, saw 5\n",
      "Skipping line 310360: Expected 2 fields in line 310360, saw 5\n",
      "Skipping line 317004: Expected 2 fields in line 317004, saw 5\n",
      "Skipping line 318207: Expected 2 fields in line 318207, saw 5\n",
      "Skipping line 331783: Expected 2 fields in line 331783, saw 5\n",
      "Skipping line 333864: Expected 2 fields in line 333864, saw 5\n",
      "Skipping line 335958: Expected 2 fields in line 335958, saw 5\n",
      "Skipping line 336290: Expected 2 fields in line 336290, saw 5\n",
      "Skipping line 343526: Expected 2 fields in line 343526, saw 5\n",
      "Skipping line 343857: Expected 2 fields in line 343857, saw 5\n",
      "Skipping line 344059: Expected 2 fields in line 344059, saw 5\n",
      "Skipping line 348691: Expected 2 fields in line 348691, saw 5\n",
      "Skipping line 353446: Expected 2 fields in line 353446, saw 5\n",
      "Skipping line 357073: Expected 2 fields in line 357073, saw 5\n",
      "Skipping line 359753: Expected 2 fields in line 359753, saw 5\n",
      "Skipping line 359974: Expected 2 fields in line 359974, saw 5\n",
      "Skipping line 366534: Expected 2 fields in line 366534, saw 5\n",
      "Skipping line 369514: Expected 2 fields in line 369514, saw 5\n",
      "Skipping line 377759: Expected 2 fields in line 377759, saw 5\n",
      "Skipping line 379327: Expected 2 fields in line 379327, saw 5\n",
      "Skipping line 380769: Expected 2 fields in line 380769, saw 5\n",
      "Skipping line 381073: Expected 2 fields in line 381073, saw 5\n",
      "Skipping line 381489: Expected 2 fields in line 381489, saw 5\n",
      "Skipping line 386304: Expected 2 fields in line 386304, saw 5\n",
      "Skipping line 387635: Expected 2 fields in line 387635, saw 5\n",
      "Skipping line 389613: Expected 2 fields in line 389613, saw 5\n",
      "Skipping line 392604: Expected 2 fields in line 392604, saw 5\n",
      "Skipping line 393184: Expected 2 fields in line 393184, saw 5\n",
      "Skipping line 395530: Expected 2 fields in line 395530, saw 5\n",
      "Skipping line 396939: Expected 2 fields in line 396939, saw 5\n",
      "Skipping line 397385: Expected 2 fields in line 397385, saw 5\n",
      "Skipping line 397509: Expected 2 fields in line 397509, saw 5\n",
      "Skipping line 402902: Expected 2 fields in line 402902, saw 5\n",
      "Skipping line 405187: Expected 2 fields in line 405187, saw 5\n",
      "Skipping line 408412: Expected 2 fields in line 408412, saw 5\n",
      "Skipping line 419423: Expected 2 fields in line 419423, saw 5\n",
      "Skipping line 420962: Expected 2 fields in line 420962, saw 5\n",
      "Skipping line 425965: Expected 2 fields in line 425965, saw 5\n",
      "Skipping line 427496: Expected 2 fields in line 427496, saw 5\n",
      "Skipping line 438881: Expected 2 fields in line 438881, saw 5\n",
      "Skipping line 439776: Expected 2 fields in line 439776, saw 5\n",
      "Skipping line 440345: Expected 2 fields in line 440345, saw 5\n",
      "Skipping line 445507: Expected 2 fields in line 445507, saw 5\n",
      "Skipping line 445548: Expected 2 fields in line 445548, saw 5\n",
      "Skipping line 447184: Expected 2 fields in line 447184, saw 5\n",
      "Skipping line 448603: Expected 2 fields in line 448603, saw 5\n",
      "Skipping line 451732: Expected 2 fields in line 451732, saw 5\n",
      "Skipping line 458249: Expected 2 fields in line 458249, saw 5\n",
      "Skipping line 460274: Expected 2 fields in line 460274, saw 5\n",
      "Skipping line 467630: Expected 2 fields in line 467630, saw 5\n",
      "Skipping line 473961: Expected 2 fields in line 473961, saw 5\n",
      "Skipping line 476281: Expected 2 fields in line 476281, saw 5\n",
      "Skipping line 478010: Expected 2 fields in line 478010, saw 5\n",
      "Skipping line 478322: Expected 2 fields in line 478322, saw 5\n",
      "Skipping line 479999: Expected 2 fields in line 479999, saw 5\n",
      "Skipping line 480898: Expected 2 fields in line 480898, saw 5\n",
      "Skipping line 481688: Expected 2 fields in line 481688, saw 5\n",
      "Skipping line 485193: Expected 2 fields in line 485193, saw 5\n",
      "Skipping line 485519: Expected 2 fields in line 485519, saw 5\n",
      "Skipping line 486000: Expected 2 fields in line 486000, saw 5\n",
      "Skipping line 489063: Expected 2 fields in line 489063, saw 5\n",
      "Skipping line 494525: Expected 2 fields in line 494525, saw 5\n",
      "Skipping line 495009: Expected 2 fields in line 495009, saw 5\n",
      "Skipping line 501954: Expected 2 fields in line 501954, saw 5\n",
      "Skipping line 508035: Expected 2 fields in line 508035, saw 5\n",
      "Skipping line 508828: Expected 2 fields in line 508828, saw 5\n",
      "Skipping line 509833: Expected 2 fields in line 509833, saw 5\n",
      "Skipping line 510410: Expected 2 fields in line 510410, saw 5\n",
      "Skipping line 518229: Expected 2 fields in line 518229, saw 5\n",
      "Skipping line 520302: Expected 2 fields in line 520302, saw 5\n",
      "Skipping line 520340: Expected 2 fields in line 520340, saw 5\n",
      "Skipping line 525174: Expected 2 fields in line 525174, saw 5\n",
      "Skipping line 526251: Expected 2 fields in line 526251, saw 5\n",
      "Skipping line 529611: Expected 2 fields in line 529611, saw 5\n",
      "Skipping line 531398: Expected 2 fields in line 531398, saw 5\n",
      "Skipping line 534146: Expected 2 fields in line 534146, saw 5\n",
      "Skipping line 544954: Expected 2 fields in line 544954, saw 5\n",
      "Skipping line 553002: Expected 2 fields in line 553002, saw 5\n",
      "Skipping line 553883: Expected 2 fields in line 553883, saw 5\n",
      "Skipping line 553887: Expected 2 fields in line 553887, saw 5\n",
      "Skipping line 553915: Expected 2 fields in line 553915, saw 5\n",
      "Skipping line 554172: Expected 2 fields in line 554172, saw 5\n",
      "Skipping line 563534: Expected 2 fields in line 563534, saw 5\n",
      "Skipping line 565191: Expected 2 fields in line 565191, saw 5\n",
      "Skipping line 574108: Expected 2 fields in line 574108, saw 5\n",
      "Skipping line 574412: Expected 2 fields in line 574412, saw 5\n",
      "Skipping line 575985: Expected 2 fields in line 575985, saw 5\n",
      "Skipping line 580091: Expected 2 fields in line 580091, saw 5\n",
      "Skipping line 582682: Expected 2 fields in line 582682, saw 5\n",
      "Skipping line 585885: Expected 2 fields in line 585885, saw 5\n",
      "Skipping line 590171: Expected 2 fields in line 590171, saw 5\n",
      "Skipping line 591924: Expected 2 fields in line 591924, saw 5\n",
      "Skipping line 592515: Expected 2 fields in line 592515, saw 5\n",
      "Skipping line 593888: Expected 2 fields in line 593888, saw 5\n",
      "Skipping line 596245: Expected 2 fields in line 596245, saw 5\n",
      "Skipping line 607344: Expected 2 fields in line 607344, saw 5\n",
      "Skipping line 607633: Expected 2 fields in line 607633, saw 5\n",
      "Skipping line 610939: Expected 2 fields in line 610939, saw 5\n",
      "Skipping line 613638: Expected 2 fields in line 613638, saw 5\n",
      "Skipping line 615643: Expected 2 fields in line 615643, saw 5\n",
      "Skipping line 615901: Expected 2 fields in line 615901, saw 5\n",
      "Skipping line 617389: Expected 2 fields in line 617389, saw 5\n",
      "Skipping line 634641: Expected 2 fields in line 634641, saw 5\n",
      "Skipping line 635755: Expected 2 fields in line 635755, saw 5\n",
      "Skipping line 646243: Expected 2 fields in line 646243, saw 5\n",
      "Skipping line 647165: Expected 2 fields in line 647165, saw 5\n",
      "Skipping line 648610: Expected 2 fields in line 648610, saw 5\n",
      "Skipping line 648772: Expected 2 fields in line 648772, saw 5\n",
      "Skipping line 651833: Expected 2 fields in line 651833, saw 5\n",
      "Skipping line 653663: Expected 2 fields in line 653663, saw 5\n",
      "Skipping line 656233: Expected 2 fields in line 656233, saw 5\n",
      "Skipping line 656694: Expected 2 fields in line 656694, saw 5\n",
      "Skipping line 659783: Expected 2 fields in line 659783, saw 5\n",
      "Skipping line 660478: Expected 2 fields in line 660478, saw 5\n",
      "Skipping line 661133: Expected 2 fields in line 661133, saw 5\n",
      "Skipping line 661736: Expected 2 fields in line 661736, saw 5\n",
      "Skipping line 669827: Expected 2 fields in line 669827, saw 5\n"
     ]
    },
    {
     "data": {
      "text/html": [
       "<div>\n",
       "<style scoped>\n",
       "    .dataframe tbody tr th:only-of-type {\n",
       "        vertical-align: middle;\n",
       "    }\n",
       "\n",
       "    .dataframe tbody tr th {\n",
       "        vertical-align: top;\n",
       "    }\n",
       "\n",
       "    .dataframe thead th {\n",
       "        text-align: right;\n",
       "    }\n",
       "</style>\n",
       "<table border=\"1\" class=\"dataframe\">\n",
       "  <thead>\n",
       "    <tr style=\"text-align: right;\">\n",
       "      <th></th>\n",
       "      <th>password</th>\n",
       "      <th>strength</th>\n",
       "    </tr>\n",
       "  </thead>\n",
       "  <tbody>\n",
       "    <tr>\n",
       "      <th>0</th>\n",
       "      <td>kzde5577</td>\n",
       "      <td>1</td>\n",
       "    </tr>\n",
       "    <tr>\n",
       "      <th>1</th>\n",
       "      <td>kino3434</td>\n",
       "      <td>1</td>\n",
       "    </tr>\n",
       "    <tr>\n",
       "      <th>2</th>\n",
       "      <td>visi7k1yr</td>\n",
       "      <td>1</td>\n",
       "    </tr>\n",
       "    <tr>\n",
       "      <th>3</th>\n",
       "      <td>megzy123</td>\n",
       "      <td>1</td>\n",
       "    </tr>\n",
       "    <tr>\n",
       "      <th>4</th>\n",
       "      <td>lamborghin1</td>\n",
       "      <td>1</td>\n",
       "    </tr>\n",
       "  </tbody>\n",
       "</table>\n",
       "</div>"
      ],
      "text/plain": [
       "      password  strength\n",
       "0     kzde5577         1\n",
       "1     kino3434         1\n",
       "2    visi7k1yr         1\n",
       "3     megzy123         1\n",
       "4  lamborghin1         1"
      ]
     },
     "execution_count": 3,
     "metadata": {},
     "output_type": "execute_result"
    }
   ],
   "source": [
    "df=pd.read_csv('passwords.csv',',',error_bad_lines=False,engine='python')\n",
    "df.head()"
   ]
  },
  {
   "cell_type": "code",
   "execution_count": 4,
   "metadata": {},
   "outputs": [
    {
     "data": {
      "text/plain": [
       "669640"
      ]
     },
     "execution_count": 4,
     "metadata": {},
     "output_type": "execute_result"
    }
   ],
   "source": [
    "len(df)"
   ]
  },
  {
   "cell_type": "code",
   "execution_count": 5,
   "metadata": {},
   "outputs": [
    {
     "data": {
      "text/plain": [
       "array([1, 2, 0], dtype=int64)"
      ]
     },
     "execution_count": 5,
     "metadata": {},
     "output_type": "execute_result"
    }
   ],
   "source": [
    "df['strength'].unique()"
   ]
  },
  {
   "cell_type": "code",
   "execution_count": 6,
   "metadata": {},
   "outputs": [
    {
     "name": "stdout",
     "output_type": "stream",
     "text": [
      "Wall time: 36.9 ms\n"
     ]
    },
    {
     "data": {
      "text/plain": [
       "password    1\n",
       "strength    0\n",
       "dtype: int64"
      ]
     },
     "execution_count": 6,
     "metadata": {},
     "output_type": "execute_result"
    }
   ],
   "source": [
    "%%time\n",
    "df.isna().sum()"
   ]
  },
  {
   "cell_type": "code",
   "execution_count": 7,
   "metadata": {},
   "outputs": [
    {
     "data": {
      "text/plain": [
       "password    0\n",
       "strength    0\n",
       "dtype: int64"
      ]
     },
     "execution_count": 7,
     "metadata": {},
     "output_type": "execute_result"
    }
   ],
   "source": [
    "df.dropna(inplace=True)\n",
    "df.isna().sum()"
   ]
  },
  {
   "cell_type": "code",
   "execution_count": 8,
   "metadata": {},
   "outputs": [
    {
     "data": {
      "text/plain": [
       "1    496801\n",
       "0     89701\n",
       "2     83137\n",
       "Name: strength, dtype: int64"
      ]
     },
     "execution_count": 8,
     "metadata": {},
     "output_type": "execute_result"
    }
   ],
   "source": [
    "df['strength'].value_counts()"
   ]
  },
  {
   "cell_type": "code",
   "execution_count": 9,
   "metadata": {},
   "outputs": [],
   "source": [
    "import random\n",
    "password_tuple = np.array(df)\n",
    "random.shuffle(password_tuple)"
   ]
  },
  {
   "cell_type": "code",
   "execution_count": 10,
   "metadata": {},
   "outputs": [],
   "source": [
    "def password_divide(password):\n",
    "    character=[]\n",
    "    for i in password:\n",
    "        character.append(i)\n",
    "    return character"
   ]
  },
  {
   "cell_type": "markdown",
   "metadata": {},
   "source": [
    "### Transforming passwords using TFIDF"
   ]
  },
  {
   "cell_type": "code",
   "execution_count": 12,
   "metadata": {},
   "outputs": [
    {
     "name": "stdout",
     "output_type": "stream",
     "text": [
      "5.76 s ± 65.9 ms per loop (mean ± std. dev. of 7 runs, 1 loop each)\n"
     ]
    }
   ],
   "source": [
    "%%timeit\n",
    "from sklearn.feature_extraction.text import TfidfVectorizer\n",
    "vectorizer=TfidfVectorizer(tokenizer=password_divide)\n",
    "\n",
    "x=[labels[0] for labels in password_tuple]\n",
    "y=[labels[1] for labels in password_tuple]\n",
    "\n",
    "X=vectorizer.fit_transform(x)"
   ]
  },
  {
   "cell_type": "code",
   "execution_count": 11,
   "metadata": {},
   "outputs": [],
   "source": [
    "from sklearn.model_selection import train_test_split\n",
    "X_train, X_test, y_train, y_test=train_test_split(X,y,test_size=0.2, random_state = 12)"
   ]
  },
  {
   "cell_type": "markdown",
   "metadata": {},
   "source": [
    "### Creating Random Forest model"
   ]
  },
  {
   "cell_type": "code",
   "execution_count": 12,
   "metadata": {},
   "outputs": [
    {
     "data": {
      "text/plain": [
       "RandomForestClassifier(random_state=12)"
      ]
     },
     "execution_count": 12,
     "metadata": {},
     "output_type": "execute_result"
    }
   ],
   "source": [
    "from sklearn.ensemble import RandomForestClassifier\n",
    "rfc = RandomForestClassifier(random_state = 12)\n",
    "rfc.fit(X_train,y_train)"
   ]
  },
  {
   "cell_type": "markdown",
   "metadata": {},
   "source": [
    "#### Accuracy"
   ]
  },
  {
   "cell_type": "code",
   "execution_count": 13,
   "metadata": {},
   "outputs": [
    {
     "data": {
      "text/plain": [
       "0.9852607371124783"
      ]
     },
     "execution_count": 13,
     "metadata": {},
     "output_type": "execute_result"
    }
   ],
   "source": [
    "rfc.score(X_test, y_test)"
   ]
  },
  {
   "cell_type": "markdown",
   "metadata": {},
   "source": [
    "#### Precision score"
   ]
  },
  {
   "cell_type": "code",
   "execution_count": 14,
   "metadata": {},
   "outputs": [
    {
     "data": {
      "text/plain": [
       "array([0.98619632, 0.98453342, 0.98881197])"
      ]
     },
     "execution_count": 14,
     "metadata": {},
     "output_type": "execute_result"
    }
   ],
   "source": [
    "from sklearn.metrics import precision_score\n",
    "predictions = rfc.predict(X_test)\n",
    "precision_score(y_test, predictions, average = None)"
   ]
  },
  {
   "cell_type": "code",
   "execution_count": 20,
   "metadata": {},
   "outputs": [
    {
     "data": {
      "text/plain": [
       "array([1])"
      ]
     },
     "execution_count": 20,
     "metadata": {},
     "output_type": "execute_result"
    }
   ],
   "source": [
    "pass_array = np.array(['1234'])\n",
    "pass_transformed=vectorizer.transform(pass_array)\n",
    "rfc.predict(pass_transformed)"
   ]
  },
  {
   "cell_type": "markdown",
   "metadata": {},
   "source": [
    "#### Dictionaries for password genereator"
   ]
  },
  {
   "cell_type": "code",
   "execution_count": 21,
   "metadata": {},
   "outputs": [
    {
     "data": {
      "text/plain": [
       "['v',\n",
       " 'H',\n",
       " 'J',\n",
       " '(',\n",
       " '&',\n",
       " 'ż',\n",
       " 'a',\n",
       " 'T',\n",
       " '^',\n",
       " 'K',\n",
       " 'q',\n",
       " '9',\n",
       " '\"',\n",
       " 'Ć',\n",
       " '4',\n",
       " ')',\n",
       " 'I',\n",
       " 'U',\n",
       " '=',\n",
       " 'F',\n",
       " 'ś',\n",
       " 'x',\n",
       " ':',\n",
       " '~',\n",
       " 'l',\n",
       " 'ą',\n",
       " '[',\n",
       " 'V',\n",
       " 'X',\n",
       " '`',\n",
       " \"',\",\n",
       " 'c',\n",
       " 'w',\n",
       " '*',\n",
       " 'd',\n",
       " '1',\n",
       " '+',\n",
       " 'L',\n",
       " 'Ó',\n",
       " 'h',\n",
       " 'f',\n",
       " 'n',\n",
       " 'Ą',\n",
       " '3',\n",
       " 'Ł',\n",
       " 'g',\n",
       " '7',\n",
       " 'R',\n",
       " 'B',\n",
       " '>',\n",
       " '%',\n",
       " '8',\n",
       " 'p',\n",
       " '{',\n",
       " 'Ś',\n",
       " 'ń',\n",
       " '2',\n",
       " 'S',\n",
       " 'Q',\n",
       " '@',\n",
       " 'D',\n",
       " 'ó',\n",
       " 'Ź',\n",
       " '_',\n",
       " '5',\n",
       " 'M',\n",
       " 'ę',\n",
       " 'W',\n",
       " '|',\n",
       " 'Ę',\n",
       " 'O',\n",
       " ']',\n",
       " '$',\n",
       " ';',\n",
       " '?',\n",
       " '.',\n",
       " 'Y',\n",
       " '0',\n",
       " 'y',\n",
       " 'ź',\n",
       " '-',\n",
       " 'Ż',\n",
       " 'ć',\n",
       " 'i',\n",
       " '6',\n",
       " '!',\n",
       " 's',\n",
       " 'C',\n",
       " 'o',\n",
       " 'e',\n",
       " '/',\n",
       " 'N',\n",
       " 'A',\n",
       " \"'\",\n",
       " 'Z',\n",
       " 'E',\n",
       " 'm',\n",
       " '#',\n",
       " 't',\n",
       " 'ł',\n",
       " 'r',\n",
       " 'b',\n",
       " 'G',\n",
       " '}',\n",
       " 'Ń',\n",
       " 'z',\n",
       " 'k',\n",
       " 'u',\n",
       " 'P',\n",
       " '<',\n",
       " 'j']"
      ]
     },
     "execution_count": 21,
     "metadata": {},
     "output_type": "execute_result"
    }
   ],
   "source": [
    "alphabet_low = [ 'a', 'ą', 'b', 'c', 'ć', 'd', 'e', 'ę', 'f', 'g', 'h', 'i', 'j', 'k', 'l', 'ł', 'm', 'n', 'ń', 'o', 'ó', 'p', 'q', 'r', 's', 'ś', 't', 'u', 'v', 'w', 'x', 'y', 'z', 'ź', 'ż']\n",
    "alphabet_upp = []\n",
    "for i in range(len(alphabet_low)):\n",
    "    alphabet_upp.append(str(alphabet_low[i].upper()))\n",
    "numbers = ['0','1','2','3','4','5','6','7','8','9']\n",
    "symbols = [ '~','`','!', '@','#','$','%','^','&','*','(',')','_','-','+','=','{','[','}',']','|','\\',',':',';','\"',\"'\",'<','>','.','?','/']\n",
    "all_symbols = alphabet_low + alphabet_upp + numbers + symbols\n",
    "random.shuffle(all_symbols)\n",
    "all_symbols"
   ]
  },
  {
   "cell_type": "code",
   "execution_count": 22,
   "metadata": {},
   "outputs": [],
   "source": [
    "def password_generator(length=3):\n",
    "    if length < 3:\n",
    "        print(\"Length of the password is too short\")\n",
    "    elif length == 3:\n",
    "        password_list = []\n",
    "        password_list.append( random.choice(alphabet_upp))\n",
    "        password_list.append( random.choice(numbers))\n",
    "        password_list.append( random.choice(symbols))\n",
    "        random.shuffle(password_list)\n",
    "        random.shuffle(password_list)\n",
    "        password = ''.join(password_list)\n",
    "    else:\n",
    "        password_list = []\n",
    "        password_list.append( random.choice(alphabet_upp))\n",
    "        password_list.append( random.choice(numbers))\n",
    "        password_list.append( random.choice(symbols))\n",
    "        random.shuffle(password_list)\n",
    "        for n in range(length-3):\n",
    "            password_list.append(random.choice(all_symbols))\n",
    "        random.shuffle(password_list)\n",
    "        password = ''.join(password_list)\n",
    "        return password"
   ]
  },
  {
   "cell_type": "markdown",
   "metadata": {},
   "source": [
    "#### Clasification of 1000 random generated passwords using model created above"
   ]
  },
  {
   "cell_type": "code",
   "execution_count": 24,
   "metadata": {},
   "outputs": [],
   "source": [
    "predictions = []\n",
    "for n in range(1000):\n",
    "    password = password_generator(7)\n",
    "    pass_array = np.array([password])\n",
    "    password_transformed=vectorizer.transform(pass_array)\n",
    "    pred_strength = rfc.predict(password_transformed)\n",
    "    predictions.append(pred_strength)"
   ]
  },
  {
   "cell_type": "code",
   "execution_count": 31,
   "metadata": {},
   "outputs": [],
   "source": [
    "zeros = []\n",
    "ones = []\n",
    "twos = []\n",
    "for n in predictions:\n",
    "    if n == 0:\n",
    "        zeros.append(n)\n",
    "    elif n == 1:\n",
    "        ones.append(n)\n",
    "    else:\n",
    "        twos.append(n)"
   ]
  },
  {
   "cell_type": "code",
   "execution_count": 38,
   "metadata": {},
   "outputs": [
    {
     "name": "stdout",
     "output_type": "stream",
     "text": [
      "1: 106 2: 777 3: 117\n"
     ]
    }
   ],
   "source": [
    "print(\"0: \" + str(len(zeros)),\"1: \" + str(len(ones)), \"2: \" + str(len(twos)))"
   ]
  },
  {
   "cell_type": "markdown",
   "metadata": {},
   "source": [
    "#### Clasification of 10000 random generated passwords using model created above"
   ]
  },
  {
   "cell_type": "code",
   "execution_count": 39,
   "metadata": {},
   "outputs": [
    {
     "name": "stdout",
     "output_type": "stream",
     "text": [
      "1: 1083 2: 7849 3: 1068\n"
     ]
    }
   ],
   "source": [
    "predictions = []\n",
    "for n in range(10000):\n",
    "    password = password_generator(7)\n",
    "    pass_array = np.array([password])\n",
    "    password_transformed=vectorizer.transform(pass_array)\n",
    "    pred_strength = rfc.predict(password_transformed)\n",
    "    predictions.append(pred_strength)\n",
    "    \n",
    "zeros = []\n",
    "ones = []\n",
    "twos = []\n",
    "for n in predictions:\n",
    "    if n == 0:\n",
    "        zeros.append(n)\n",
    "    elif n == 1:\n",
    "        ones.append(n)\n",
    "    else:\n",
    "        twos.append(n)\n",
    "\n",
    "print(\"0: \" + str(len(zeros)),\"1: \" + str(len(ones)), \"2: \" + str(len(twos)))"
   ]
  },
  {
   "cell_type": "markdown",
   "metadata": {},
   "source": [
    "#### Clasification of 1000 random generated passwords with different lengths"
   ]
  },
  {
   "cell_type": "code",
   "execution_count": 46,
   "metadata": {},
   "outputs": [
    {
     "name": "stdout",
     "output_type": "stream",
     "text": [
      "Results for length = 3\n",
      "0: 103 1: 789 2: 108\n",
      "Results for length = 4\n",
      "0: 100 1: 790 2: 110\n",
      "Results for length = 5\n",
      "0: 107 1: 776 2: 117\n",
      "Results for length = 6\n",
      "0: 118 1: 784 2: 98\n",
      "Results for length = 7\n",
      "0: 105 1: 787 2: 108\n",
      "Results for length = 8\n",
      "0: 108 1: 801 2: 91\n",
      "Results for length = 9\n",
      "0: 127 1: 754 2: 119\n",
      "Results for length = 10\n",
      "0: 96 1: 783 2: 121\n",
      "Results for length = 11\n",
      "0: 116 1: 786 2: 98\n",
      "Results for length = 12\n",
      "0: 85 1: 809 2: 106\n",
      "Results for length = 13\n",
      "0: 112 1: 788 2: 100\n",
      "Results for length = 14\n",
      "0: 96 1: 795 2: 109\n",
      "Results for length = 15\n",
      "0: 118 1: 769 2: 113\n"
     ]
    }
   ],
   "source": [
    "for t in range(3,16):\n",
    "    predictions = []\n",
    "    for k in range(1000):\n",
    "        password = password_generator(7)\n",
    "        pass_array = np.array([password])\n",
    "        password_transformed=vectorizer.transform(pass_array)\n",
    "        pred_strength = rfc.predict(password_transformed)\n",
    "        predictions.append(pred_strength)\n",
    "        \n",
    "    zeros = []\n",
    "    ones = []\n",
    "    twos = []\n",
    "    for n in predictions:\n",
    "        if n == 0:\n",
    "            zeros.append(n)\n",
    "        elif n == 1:\n",
    "            ones.append(n)\n",
    "        else:\n",
    "            twos.append(n)\n",
    "    print('Results for length = ' + str(t))\n",
    "    print(\"0: \" + str(len(zeros)),\"1: \" + str(len(ones)), \"2: \" + str(len(twos)))  "
   ]
  },
  {
   "cell_type": "code",
   "execution_count": 58,
   "metadata": {},
   "outputs": [],
   "source": [
    "def strong_password_generator(length):\n",
    "    status = 0\n",
    "    num_iter = 0\n",
    "    while status != 2:\n",
    "        num_iter += 1\n",
    "        password = password_generator(length)\n",
    "        dt = np.array([password])\n",
    "        pred=vectorizer.transform(dt)\n",
    "        pass_strength = rfc.predict(pred)\n",
    "        status = pass_strength\n",
    "    return num_iter"
   ]
  },
  {
   "cell_type": "code",
   "execution_count": 59,
   "metadata": {},
   "outputs": [
    {
     "data": {
      "text/plain": [
       "6"
      ]
     },
     "execution_count": 59,
     "metadata": {},
     "output_type": "execute_result"
    }
   ],
   "source": [
    "strong_password_generator(7)"
   ]
  },
  {
   "cell_type": "code",
   "execution_count": 60,
   "metadata": {},
   "outputs": [],
   "source": [
    "iterations = []\n",
    "for n in range(1000):\n",
    "    iterations.append(strong_password_generator(7))"
   ]
  },
  {
   "cell_type": "code",
   "execution_count": 66,
   "metadata": {},
   "outputs": [
    {
     "data": {
      "text/plain": [
       "8.952"
      ]
     },
     "execution_count": 66,
     "metadata": {},
     "output_type": "execute_result"
    }
   ],
   "source": [
    "sum = 0\n",
    "for n in iterations:\n",
    "    sum = sum + n\n",
    "    \n",
    "sum/len(iterations)"
   ]
  },
  {
   "cell_type": "markdown",
   "metadata": {},
   "source": [
    "#### Experiment of checking how many iterations does random password generator need to generate password with the highest strength"
   ]
  },
  {
   "cell_type": "code",
   "execution_count": 68,
   "metadata": {},
   "outputs": [
    {
     "name": "stdout",
     "output_type": "stream",
     "text": [
      "Average number of iterations for length = 3\n",
      "8.767\n",
      "Average number of iterations for length = 4\n",
      "8.748\n",
      "Average number of iterations for length = 5\n",
      "8.605\n",
      "Average number of iterations for length = 6\n",
      "8.775\n",
      "Average number of iterations for length = 7\n",
      "9.336\n",
      "Average number of iterations for length = 8\n",
      "8.989\n",
      "Average number of iterations for length = 9\n",
      "9.482\n",
      "Average number of iterations for length = 10\n",
      "8.748\n",
      "Average number of iterations for length = 11\n",
      "8.786\n",
      "Average number of iterations for length = 12\n",
      "8.483\n",
      "Average number of iterations for length = 13\n",
      "9.352\n",
      "Average number of iterations for length = 14\n",
      "8.941\n",
      "Average number of iterations for length = 15\n",
      "9.287\n"
     ]
    }
   ],
   "source": [
    "for t in range(3,16):\n",
    "    iterations = []\n",
    "    for n in range(1000):\n",
    "        iterations.append(strong_password_generator(7))\n",
    "    sum = 0\n",
    "    for k in iterations:\n",
    "        sum = sum + k\n",
    "    print('Average number of iterations for length = ' + str(t))\n",
    "    print(str(sum/len(iterations)))"
   ]
  }
 ],
 "metadata": {
  "kernelspec": {
   "display_name": "Python 3",
   "language": "python",
   "name": "python3"
  },
  "language_info": {
   "codemirror_mode": {
    "name": "ipython",
    "version": 3
   },
   "file_extension": ".py",
   "mimetype": "text/x-python",
   "name": "python",
   "nbconvert_exporter": "python",
   "pygments_lexer": "ipython3",
   "version": "3.8.3"
  }
 },
 "nbformat": 4,
 "nbformat_minor": 4
}
